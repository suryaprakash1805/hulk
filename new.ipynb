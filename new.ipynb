{
 "cells": [
  {
   "cell_type": "markdown",
   "id": "10ab7f9c-9bc0-49f7-bc12-97175a024c7e",
   "metadata": {},
   "source": [
    "<h1>My Jupyter Notebook on IBM Watson Studio</h1>"
   ]
  },
  {
   "cell_type": "markdown",
   "id": "da9aa580-10aa-4803-a652-6b018f8c0d7a",
   "metadata": {},
   "source": [
    "**YARRA SURYA PRAKASH**\n",
    "STUDENT "
   ]
  },
  {
   "cell_type": "markdown",
   "id": "4ae923dd-8b00-496b-a1db-9f38cbeb6678",
   "metadata": {},
   "source": [
    "*I'm student from electronics department but im intrested in learning data science due to its great features and many learning skills im very much intrested in data science as a part of it I\"ve very eager learn about so I choosed this platform for learning.*\n",
    " "
   ]
  },
  {
   "cell_type": "markdown",
   "id": "a168b4c7-2f70-4a37-8ae5-e0fe3fd14bac",
   "metadata": {},
   "source": [
    "<h3>sum of two numbers and printing data science</h3>"
   ]
  },
  {
   "cell_type": "code",
   "execution_count": 3,
   "id": "fdea7c97-13c3-4b22-bb01-0e42b850f0ee",
   "metadata": {},
   "outputs": [
    {
     "name": "stdout",
     "output_type": "stream",
     "text": [
      "2\n"
     ]
    }
   ],
   "source": [
    "print(1+1)"
   ]
  },
  {
   "cell_type": "code",
   "execution_count": 4,
   "id": "c35520bc-767e-4c60-a0ae-12ca6e21464d",
   "metadata": {},
   "outputs": [
    {
     "name": "stdout",
     "output_type": "stream",
     "text": [
      "data science\n"
     ]
    }
   ],
   "source": [
    "print(\"data science\")"
   ]
  },
  {
   "cell_type": "code",
   "execution_count": null,
   "id": "1989a310-9f9d-430d-b5ed-f655316c7398",
   "metadata": {},
   "outputs": [],
   "source": []
  }
 ],
 "metadata": {
  "kernelspec": {
   "display_name": "Python",
   "language": "python",
   "name": "conda-env-python-py"
  },
  "language_info": {
   "codemirror_mode": {
    "name": "ipython",
    "version": 3
   },
   "file_extension": ".py",
   "mimetype": "text/x-python",
   "name": "python",
   "nbconvert_exporter": "python",
   "pygments_lexer": "ipython3",
   "version": "3.7.12"
  }
 },
 "nbformat": 4,
 "nbformat_minor": 5
}
